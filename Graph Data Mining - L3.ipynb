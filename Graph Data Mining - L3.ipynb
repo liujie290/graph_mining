{
 "metadata": {
  "name": "Graph Data Mining - L3"
 },
 "nbformat": 3,
 "nbformat_minor": 0,
 "worksheets": [
  {
   "cells": [
    {
     "cell_type": "markdown",
     "metadata": {},
     "source": [
      "##Exercise 1: Theory.\n",
      "\n",
      "####(a) Prove that the Gaussian similarity function defined in the lecture notes on spectral graph partitioning is indeed the kernel function, called the Gaussian kernel.  \n",
      "#####Symmetric\n",
      "For the gaussian kernel\n",
      "$$k(x,y)=e^{-(x-y)^2 / 2\\sigma^2} = e^{-\\frac{(y-x)2}{2\\sigma^2}} = k(y,x)$$\n",
      "Hence symmetric"
     ]
    },
    {
     "cell_type": "markdown",
     "metadata": {},
     "source": [
      "####(b) If the Euclidean distance is used in the original space, then what is the mathematical expression for the distance function in the Hilbert space upon applying the Gaussian kernel to the original data?\n",
      "\n"
     ]
    },
    {
     "cell_type": "markdown",
     "metadata": {},
     "source": [
      "Euclidean distance (d) can be calculated from the correlation matrix in the following way:  \n",
      "$$d^2 (P_1, P_2) = (P_1 P_1) - 2(P_1 P_2) + (P_2 P_2)$$  \n",
      "where (P_1, P_2) is the correlation between the points P_1 and P_2. For the Gaussian Kernel correlation between 2 points is defined as:\n",
      "$$R^3 (P_1 P_2) = [R^2 (P_1 P_2)]^2$$  \n",
      "\n",
      "For the gaussian kernel\n",
      "$$K(x,y) = e^{-(x-y)^2 / 2\\sigma^2}$$\n",
      "\n",
      "So, the euclidean distance in the Hilbert space in terms of the original space would be\n",
      "$$(P_1 P_1)^2 - 4(P_1 P_2)^2 + (P_2 P_2)^2$$\n",
      "$$= (x_1.x_1 + y_1.y_1)^2 - 4(x_1.x_2 + y_1.y_2)^2 + (x_2.x_2 + y_2.y_2)^2$$\n",
      " where $$x_1.x_2 = e^{-(x_1-x_2)^2 / 2\\sigma^2}$$"
     ]
    },
    {
     "cell_type": "markdown",
     "metadata": {},
     "source": [
      "####(c) If the original points lie on the high-dimensional surface of the sphere with the radius of 1, then how could the mathematical expression in 1.b be simplified?"
     ]
    },
    {
     "cell_type": "markdown",
     "metadata": {},
     "source": [
      "If the points lie on surface of the sphere with radius of '1' then for any point in the Hilbert space\n",
      "$$x^2 + y^2 + z^2 = 1$$"
     ]
    },
    {
     "cell_type": "markdown",
     "metadata": {},
     "source": [
      "##Exercise 2: Generating the data sets.\n",
      "Write a script (in R, Matlab, or SAS) that generates three data sets in a 2-dimensional space, defined as follows (see examples in http://cran.r-project.org/web/packages/kernlab/vignettes/kernlab.pdf):"
     ]
    },
    {
     "cell_type": "code",
     "collapsed": false,
     "input": [
      "%pylab inline\n",
      "import random\n",
      "import matplotlib.pyplot as plt\n",
      "import numpy as np\n",
      "import matplotlib.pylab as pylab\n",
      "from IPython.display import Image\n",
      "from scipy.cluster.vq import *\n",
      "import Kmeans\n",
      "import pylab as pl\n",
      "from rpy2.robjects import r\n",
      "\n",
      "r.library(\"kernlab\")\n",
      "\n",
      "pylab.rcParams['figure.figsize'] = 5, 4"
     ],
     "language": "python",
     "metadata": {},
     "outputs": [
      {
       "output_type": "stream",
       "stream": "stdout",
       "text": [
        "\n",
        "Welcome to pylab, a matplotlib-based Python environment [backend: module://IPython.zmq.pylab.backend_inline].\n",
        "For more information, type 'help(pylab)'.\n"
       ]
      }
     ],
     "prompt_number": 3
    },
    {
     "cell_type": "markdown",
     "metadata": {},
     "source": [
      "Generating the points and converting them to R format so that we can use with RPy"
     ]
    },
    {
     "cell_type": "code",
     "collapsed": false,
     "input": [
      "def gen_concentric_gaus(n):\n",
      "    mult = 5\n",
      "    x1 = [round(random.gauss(0, 1),3) \n",
      "        for i in range(0, n)]\n",
      "    y1 = [round(random.gauss(0, 1),3) \n",
      "        for i in range(0, n)]\n",
      "    \n",
      "    x2 = [round(random.gauss(0, 6),3) \n",
      "        for i in range(0, n*mult)]\n",
      "    y2 = [round(random.gauss(0, 6),3) \n",
      "        for i in range(0, n*mult)]\n",
      "    \n",
      "    return [i for i in zip(x1,y1, [0]*len(x1)) if \\\n",
      "        math.pow(i[0],2) + math.pow(i[1],2) < 9] \\\n",
      "        + \\\n",
      "        [i for i in zip(x2,y2,[1]*len(x2)) if \\\n",
      "        36 < math.pow(i[0],2) + math.pow(i[1],2) < 100 ]\n",
      "        \n",
      "n = 50\n",
      "bad_kmeans = gen_concentric_gaus(n)\n",
      "bad_pca = gen_concentric_gaus(n)\n",
      "bad_svm = gen_concentric_gaus(n)\n",
      "\n",
      "from rpy2.robjects import r\n",
      "from rpy2.robjects import FloatVector\n",
      "\n",
      "def data_py2r(data):\n",
      "    data_all_tog = \\\n",
      "        [i[0] for i in data] + \\\n",
      "        [i[1] for i in data]\n",
      "    return r.matrix(FloatVector(data_all_tog), ncol=2)\n",
      "\n",
      "bad_kmeans_r = data_py2r(bad_kmeans)\n",
      "bad_svm_r    = data_py2r(bad_svm)\n",
      "bad_pca_r    = data_py2r(bad_pca)"
     ],
     "language": "python",
     "metadata": {},
     "outputs": [],
     "prompt_number": 4
    },
    {
     "cell_type": "markdown",
     "metadata": {},
     "source": [
      "(a) BAD_kmeans: The data set for which the kmeans clustering algorithm will not perform well."
     ]
    },
    {
     "cell_type": "code",
     "collapsed": false,
     "input": [
      "print bad_kmeans[0:5],'...'"
     ],
     "language": "python",
     "metadata": {},
     "outputs": [
      {
       "output_type": "stream",
       "stream": "stdout",
       "text": [
        "[(5.98, -1.609, 0), (-1.938, 3.479, 0), (-1.587, -2.546, 0), (0.378, -1.55, 0), (1.768, -2.762, 0)] ...\n"
       ]
      }
     ],
     "prompt_number": 100
    },
    {
     "cell_type": "markdown",
     "metadata": {},
     "source": [
      "(b) BAD_pca: The data set for which the Principal Component Analysis (PCA) dimension reduction method upon projection of the original points into 1-dimensional space (i.e., the first eigenvector) will not perform well."
     ]
    },
    {
     "cell_type": "code",
     "collapsed": false,
     "input": [
      "print bad_pca[0:5],'...'"
     ],
     "language": "python",
     "metadata": {},
     "outputs": [
      {
       "output_type": "stream",
       "stream": "stdout",
       "text": [
        "[(-0.385, -2.273, 0), (2.759, 4.554, 0), (2.864, -3.08, 0), (-1.869, 2.638, 0), (-0.682, 4.057, 0)] ...\n"
       ]
      }
     ],
     "prompt_number": 101
    },
    {
     "cell_type": "markdown",
     "metadata": {},
     "source": [
      "(c) BAD_svm: The data set for which the linear Support Vector Machine (SVM) supervised classification method using two classes of points (positive and negative)  will not perform well."
     ]
    },
    {
     "cell_type": "code",
     "collapsed": false,
     "input": [
      "print bad_svm[0:4],'...'"
     ],
     "language": "python",
     "metadata": {},
     "outputs": [
      {
       "output_type": "stream",
       "stream": "stdout",
       "text": [
        "[(3.176, -6.091, 0), (1.745, 4.1, 0), (-3.398, -2.994, 0), (-2.758, 4.957, 0)] ...\n"
       ]
      }
     ],
     "prompt_number": 102
    },
    {
     "cell_type": "markdown",
     "metadata": {},
     "source": [
      " (d) Plot each data set in a 2-dimensional space."
     ]
    },
    {
     "cell_type": "code",
     "collapsed": false,
     "input": [
      "def plot_pts(n,marker_idx=None):\n",
      "    fig, ax = plt.subplots()\n",
      "    \n",
      "    markers = ['+','_','p','*', 'x']\n",
      "    colors =  ['r','b']\n",
      "    \n",
      "    x = [i[0] for i in n]\n",
      "    y = [i[1] for i in n]\n",
      "    \n",
      "    if marker_idx == None:\n",
      "        marker_idx = [i[2] for i in n]\n",
      "    \n",
      "    for r in range(0,2):\n",
      "        idx = [i for i in range(0,\n",
      "            len(marker_idx)) if marker_idx[i]==r]\n",
      "        x_i = [x[i] for i in idx]\n",
      "        y_i = [y[i] for i in idx]\n",
      "        ax.scatter(x_i, y_i, s=150, alpha=1.0,\n",
      "            marker=markers[r],\n",
      "            c = colors[r],\n",
      "            label = 'Class '+str(r))\n",
      "\n",
      "    ax.set_xlabel('x', fontsize=15)\n",
      "    ax.set_ylabel('y', fontsize=15)\n",
      "    #ax.set_title('Set of points')\n",
      "    \n",
      "    ax.grid(True)\n",
      "    fig.tight_layout()\n",
      "    legend(loc='upper left')\n",
      "    plt.show()"
     ],
     "language": "python",
     "metadata": {},
     "outputs": [],
     "prompt_number": 5
    },
    {
     "cell_type": "code",
     "collapsed": false,
     "input": [
      "print \"BAD_Kmeans\"\n",
      "plot_pts(bad_kmeans)\n",
      "\n",
      "print \"\\nBAD_Pca\"\n",
      "plot_pts(bad_pca)\n",
      "\n",
      "print \"\\nBAD_Svm\"\n",
      "plot_pts(bad_svm)"
     ],
     "language": "python",
     "metadata": {},
     "outputs": [
      {
       "output_type": "stream",
       "stream": "stdout",
       "text": [
        "BAD_Kmeans\n"
       ]
      },
      {
       "output_type": "display_data",
       "png": "[encoded data removed]"
      },
      {
       "output_type": "stream",
       "stream": "stdout",
       "text": [
        "\n",
        "BAD_Pca\n"
       ]
      },
      {
       "output_type": "display_data",
       "png": "[encoded data removed]"
      },
      {
       "output_type": "stream",
       "stream": "stdout",
       "text": [
        "\n",
        "BAD_Svm\n"
       ]
      },
      {
       "output_type": "display_data",
       "png": "[encoded data removed]"
      }
     ],
     "prompt_number": 6
    },
    {
     "cell_type": "markdown",
     "metadata": {},
     "source": [
      "##Exercise 3: Evaluating the \"badness\" of the data mining methods.  \n",
      "Write a script that uses the BAD data set in Exercise 2, runs the corresponding data mining method, produces the output from the method, and evaluates how bad the performance of this method is. You may use various performance metrics to assess each method (e.g., the variance, precision, recall, F1 measure). Not all the metrics could equally apply to each of the technique. Reading the Performance Metrics chapter by Kanchana and John from the Practical Graph Mining with R book is strongly encouraged for performing this exercise. Also, the book web-site provides the R scripts to play with these metrics, if interested. Report the summary of the performance metrics used and the performance results obtained.\n",
      "\n",
      "If you are an R user, here is an R script that could give you an idea of how to perform the projection of the data using principal components:\n",
      "\n",
      "    data (iris);\n",
      "    iris;\n",
      "    X = iris [ , 1:4];\n",
      "    pca = princomp (X, center=TRUE);\n",
      "    pca;\n",
      "    plot (pca); # screeplot\n",
      "     loadings(pca);      # matrix of eigenvectors\n",
      "     summary (pca); # check proportion of variance\n",
      "     P=pca$scores;     # projection of X onto eigenvectors\n",
      "     plot (P[ ,1], P[ ,2]);\n",
      "     points (P [1:50, 1], P[1:50,2], col=\"red\");\n",
      "     points (P [51:100, 1], P[51:100,2], col=\"blue\");\n",
      "     x11();\n",
      "     plot the same for X\n",
      "\n",
      " "
     ]
    },
    {
     "cell_type": "code",
     "collapsed": false,
     "input": [
      "def get_performance(x,y):\n",
      "    \"\"\" Measures the performance metrics for x(actual) \n",
      "        and y (experimental).\n",
      "    \"\"\"\n",
      "    if len(x) != len(y):\n",
      "        print \"Error: Lengths not same\"\n",
      "        return\n",
      "    TP = FN = FP = TN = 0.0\n",
      "    \n",
      "    for i in range(0,len(x)):\n",
      "        for j in range(0, len(x)):\n",
      "            if i == j:\n",
      "                continue\n",
      "            \n",
      "            if x[i]==x[j] and y[i]==y[j]:\n",
      "                TP = TP + 1\n",
      "            elif x[i]!=x[j] and y[i]!=y[j]:\n",
      "                TN = TN + 1\n",
      "            elif x[i]==x[j] and y[i]!=y[j]:\n",
      "                FN = FN + 1\n",
      "            elif x[i]!=x[j] and y[i]==y[j]:\n",
      "                FP = FP + 1\n",
      "    TP = TP/2\n",
      "    TN = TN/2\n",
      "    FN = FN/2\n",
      "    FP = FP/2\n",
      "    \n",
      "    accuracy = (TP + TN) / (TP + TN + FP + FN)\n",
      "    precision = TP/(TP + FP)\n",
      "    recall = TP/(TP + FN)\n",
      "    fscore = 2*precision*recall/(precision + recall)\n",
      "    \n",
      "    print \"  Accuracy: \\t\" + str(round(accuracy, 3))\n",
      "    print \"  Precision: \\t\" + str(round(precision, 3))\n",
      "    print \"  Recall: \\t\" + str(round(recall, 3))\n",
      "    print \"  F-Score: \\t\" + str(round(fscore, 3))"
     ],
     "language": "python",
     "metadata": {},
     "outputs": [],
     "prompt_number": 7
    },
    {
     "cell_type": "markdown",
     "metadata": {},
     "source": [
      "### Bad K-Means\n",
      "Performing K-Means with K = 2 on the bad_kmeans dataset"
     ]
    },
    {
     "cell_type": "code",
     "collapsed": false,
     "input": [
      "res, idx = kmeans2(numpy.array([[i[1], i[2]] for i in bad_kmeans]), 2)\n",
      "plot_pts(bad_kmeans, idx)\n",
      "get_performance([i[2] for i in bad_kmeans], idx)"
     ],
     "language": "python",
     "metadata": {},
     "outputs": [
      {
       "output_type": "display_data",
       "png": "[encoded data removed]"
      },
      {
       "output_type": "stream",
       "stream": "stdout",
       "text": [
        "  Accuracy: \t0.55\n",
        "  Precision: \t0.599\n",
        "  Recall: \t0.589\n",
        "  F-Score: \t0.594\n"
       ]
      }
     ],
     "prompt_number": 8
    },
    {
     "cell_type": "markdown",
     "metadata": {},
     "source": [
      "It can be seen that K-Means has wrongly classified the dataset splitting the upper half and the lower half instead of the inner and the outer clusters"
     ]
    },
    {
     "cell_type": "markdown",
     "metadata": {},
     "source": [
      "### Bad PCA\n",
      "Calculating the PCA of the **bad_pca** dataset and projecting it into 1 Dimension (most dominant eigen vector)"
     ]
    },
    {
     "cell_type": "code",
     "collapsed": false,
     "input": [
      "from sklearn.decomposition import PCA\n",
      "\n",
      "def do_PCA(n,n_dims=2, n_components = None,\n",
      "            show_var=True):\n",
      "    X = [i[0:n_dims] for i in n] #data\n",
      "\n",
      "    pca = PCA(n_components=n_components)\n",
      "    X_r = pca.fit(X).transform(X)\n",
      "    \n",
      "    \n",
      "    # Percentage of variance for each components\n",
      "    if show_var:\n",
      "        print('Variance ratio of PCA components: \\n%s'\n",
      "          % str(pca.explained_variance_ratio_))\n",
      "    \n",
      "    \"\"\"\n",
      "    pl.figure()\n",
      "    for c, i, t_name, m in zip(\"rb\", [0, 1], ['C0', 'C1'], \"+_\"):\n",
      "        pl.scatter(X_r[y == i, 0], \n",
      "            X_r[y == i, 1],\n",
      "            c=c, label=t_name, s=200, marker=m)\n",
      "    pl.legend()\n",
      "    pl.title('PCA of bad_pca dataset')\n",
      "    pl.grid(True)\n",
      "    \"\"\"\n",
      "    return X_r, pca.explained_variance_ratio_\n",
      "\n",
      "X_r, ratio = do_PCA(bad_pca)\n",
      "print \"\\nHistogram of 1st component\"\n",
      "X_r_hist = hist(X_r[0:len(X_r),0])"
     ],
     "language": "python",
     "metadata": {},
     "outputs": [
      {
       "output_type": "stream",
       "stream": "stdout",
       "text": [
        "Variance ratio of PCA components: \n",
        "[ 0.56017239  0.43982761]\n",
        "\n",
        "Histogram of 1st component\n"
       ]
      },
      {
       "output_type": "display_data",
       "png": "[encoded data removed]"
      }
     ],
     "prompt_number": 9
    },
    {
     "cell_type": "markdown",
     "metadata": {},
     "source": [
      "- It can be seen that only on the basis of the 1st Eigen Vector, PCA does not perform well: There's not clear distinction between the classes based only on the 1st component.\n",
      "- The variance of the 1st component is only 0.54 with is very less."
     ]
    },
    {
     "cell_type": "markdown",
     "metadata": {},
     "source": [
      "### Bad SVM"
     ]
    },
    {
     "cell_type": "code",
     "collapsed": false,
     "input": [
      "from sklearn import svm\n",
      "\n",
      "def do_svc(kernel, title):\n",
      "    clf = svm.SVC(kernel=kernel)\n",
      "    \n",
      "    # Training the SVC model on the input data bad_svm\n",
      "    clf.fit([[i[0], i[1]] for i in bad_svm], [i[2] for i in bad_svm])\n",
      "\n",
      "    # Predicting the bad_svm data with the model\n",
      "    idx_svm = clf.predict([[i[0], i[1]] for i in bad_svm])\n",
      "    idx_svm = [int(i) for i in idx_svm]\n",
      "    \n",
      "    print \"\\n\\n\",title\n",
      "    print \"Num. of Sup. Vectors: C0=\" + \\\n",
      "            str(clf.n_support_[0]) + \", C1=\" + \\\n",
      "            str(clf.n_support_[1]) \n",
      "    plot_pts(bad_svm, idx_svm)\n",
      "    \n",
      "    # Performance\n",
      "    get_performance([i[2] for i in bad_svm], idx_svm)\n",
      "    \n",
      "    return idx_svm\n",
      "\n",
      "idx_svm_linear = do_svc('linear', \"Linear SVC\")"
     ],
     "language": "python",
     "metadata": {},
     "outputs": [
      {
       "output_type": "stream",
       "stream": "stdout",
       "text": [
        "\n",
        "\n",
        "Linear SVC\n",
        "Num. of Sup. Vectors: C0=50, C1=54\n"
       ]
      },
      {
       "output_type": "display_data",
       "png": "[encoded data removed]"
      },
      {
       "output_type": "stream",
       "stream": "stdout",
       "text": [
        "  Accuracy: \t0.526\n",
        "  Precision: \t0.526\n",
        "  Recall: \t1.0\n",
        "  F-Score: \t0.689\n"
       ]
      }
     ],
     "prompt_number": 10
    },
    {
     "cell_type": "markdown",
     "metadata": {},
     "source": [
      "It can be seen that non-kernelized SVC has wrongly classified the dataset"
     ]
    },
    {
     "cell_type": "markdown",
     "metadata": {},
     "source": [
      "##Exercise 4: Kernelizing the methods. \n",
      "Write a script that uses the kernalized version of each of the data mining method in Exercise 3 (e.g., you may consider using kernlab and kkmeans packages in R for kernel SVM+PCA and kmeans, resp.).\n",
      "\n",
      "(a) Choose at least two kernels for each of the methods.  \n",
      "\n",
      "- Polynomial Kernel\n",
      "- Gaussian radial basis Kernel"
     ]
    },
    {
     "cell_type": "code",
     "collapsed": false,
     "input": [
      "kernel_poly = r.polydot(scale = 0.9, offset = 0, degree = 2)\n",
      "kernel_gaus = r.rbfdot(sigma = 0.15)\n",
      "\n",
      "print kernel_poly\n",
      "print kernel_gaus"
     ],
     "language": "python",
     "metadata": {},
     "outputs": [
      {
       "output_type": "stream",
       "stream": "stdout",
       "text": [
        "Polynomial kernel function. \n",
        " Hyperparameters : degree =  2  scale =  0.9  offset =  0 \n",
        "\n",
        "Gaussian Radial Basis kernel function. \n",
        " Hyperparameter : sigma =  0.15 \n",
        "\n"
       ]
      }
     ],
     "prompt_number": 11
    },
    {
     "cell_type": "markdown",
     "metadata": {},
     "source": [
      "(b)  Use the same performance metrics as in Ex. 3, and **compare the performance** obtained by the methods after applying the kernel trick versus the original un-kernelized versions of the techniques."
     ]
    },
    {
     "cell_type": "markdown",
     "metadata": {},
     "source": [
      "### K-Means"
     ]
    },
    {
     "cell_type": "code",
     "collapsed": false,
     "input": [
      "print \"\\n\" + str(kernel_poly)\n",
      "kkm_poly_idx = [i-1 for i in r.kkmeans(bad_kmeans_r, \n",
      "                2, kernel = kernel_poly)]\n",
      "plot_pts(bad_kmeans, marker_idx=kkm_poly_idx)\n",
      "get_performance([i[2] for i in bad_kmeans], kkm_poly_idx)\n",
      "\n",
      "print \"\\n\" + str(kernel_gaus)\n",
      "kkm_gaus_idx = [i-1 for i in r.kkmeans(bad_kmeans_r,\n",
      "                2, kernel = kernel_gaus)]\n",
      "plot_pts(bad_kmeans, marker_idx=kkm_gaus_idx)\n",
      "get_performance([i[2] for i in bad_kmeans], kkm_gaus_idx)"
     ],
     "language": "python",
     "metadata": {},
     "outputs": [
      {
       "output_type": "stream",
       "stream": "stdout",
       "text": [
        "\n",
        "Polynomial kernel function. \n",
        " Hyperparameters : degree =  2  scale =  0.9  offset =  0 \n",
        "\n"
       ]
      },
      {
       "output_type": "display_data",
       "png": "[encoded data removed]"
      },
      {
       "output_type": "stream",
       "stream": "stdout",
       "text": [
        "  Accuracy: \t0.542\n",
        "  Precision: \t0.59\n",
        "  Recall: \t0.59\n",
        "  F-Score: \t0.59\n",
        "\n",
        "Gaussian Radial Basis kernel function. \n",
        " Hyperparameter : sigma =  0.15 \n",
        "\n"
       ]
      },
      {
       "output_type": "display_data",
       "png": "[encoded data removed]"
      },
      {
       "output_type": "stream",
       "stream": "stdout",
       "text": [
        "  Accuracy: \t1.0\n",
        "  Precision: \t1.0\n",
        "  Recall: \t1.0\n",
        "  F-Score: \t1.0\n"
       ]
      }
     ],
     "prompt_number": 13
    },
    {
     "cell_type": "markdown",
     "metadata": {},
     "source": [
      "####Performance Comparison\n",
      "It can be seen that the preformace of some of the the kernelized K-Means is better than non-kernelized K-Means. The performance of kerrnelized K-Means with Gaussian kernel is the highest: ~100%   \n"
     ]
    },
    {
     "cell_type": "markdown",
     "metadata": {},
     "source": [
      "### PCA"
     ]
    },
    {
     "cell_type": "code",
     "collapsed": false,
     "input": [
      "\"\"\"\n",
      "Output of kpca:\n",
      "    pcv - a matrix containing the principal\n",
      "            component vectors (column wise)\n",
      "    eig - The corresponding eigenvalues\n",
      "    rotated - The original data projected\n",
      "            (rotated) on the principal components\n",
      "    xmatrix - The original data matrix\n",
      "\"\"\"\n",
      "def do_kpca(n, kernel):\n",
      "    kpc = r.kpca(n, kernel=kernel)\n",
      "    pc_vec =np.array(kpc.do_slot(\"pcv\"))\n",
      "    \n",
      "    print \"\\n\" + str(kernel)\n",
      "    # Percentage of variance for each components\n",
      "    eig_v = [i for i in kpc.do_slot(\"eig\")]\n",
      "    \n",
      "    print('Variance ratio of 1st PCA component: \\n%s'\n",
      "          % str(eig_v[0]/sum(eig_v)))\n",
      "    \n",
      "    print \"\\nHistogram of 1st component\"\n",
      "    X_r_hist = hist(pc_vec[0:len(pc_vec),0])\n",
      "    return kpc"
     ],
     "language": "python",
     "metadata": {},
     "outputs": [],
     "prompt_number": 14
    },
    {
     "cell_type": "code",
     "collapsed": false,
     "input": [
      "kpc = do_kpca(bad_pca_r, kernel_poly)"
     ],
     "language": "python",
     "metadata": {},
     "outputs": [
      {
       "output_type": "stream",
       "stream": "stdout",
       "text": [
        "\n",
        "Polynomial kernel function. \n",
        " Hyperparameters : degree =  2  scale =  0.9  offset =  0 \n",
        "\n",
        "Variance ratio of 1st PCA component: \n",
        "0.391105698127\n",
        "\n",
        "Histogram of 1st component\n"
       ]
      },
      {
       "output_type": "display_data",
       "png": "[encoded data removed]"
      }
     ],
     "prompt_number": 15
    },
    {
     "cell_type": "code",
     "collapsed": false,
     "input": [
      "kpc = do_kpca(bad_pca_r, kernel_gaus)"
     ],
     "language": "python",
     "metadata": {},
     "outputs": [
      {
       "output_type": "stream",
       "stream": "stdout",
       "text": [
        "\n",
        "Gaussian Radial Basis kernel function. \n",
        " Hyperparameter : sigma =  0.15 \n",
        "\n",
        "Variance ratio of 1st PCA component: \n",
        "0.188084391759\n",
        "\n",
        "Histogram of 1st component\n"
       ]
      },
      {
       "output_type": "display_data",
       "png": "[encoded data removed]"
      }
     ],
     "prompt_number": 16
    },
    {
     "cell_type": "markdown",
     "metadata": {},
     "source": [
      "####Performance Comparison\n",
      "It can be seen that kernelized PCA has clearly separated the points unlike non-kernelized PCA"
     ]
    },
    {
     "cell_type": "markdown",
     "metadata": {},
     "source": [
      "### SVM"
     ]
    },
    {
     "cell_type": "code",
     "collapsed": false,
     "input": [
      "def polynom_kernel_svm(x, y):\n",
      "    \"\"\"\n",
      "    k(x, y) = (x. y.T + 2*I)^2\\n\n",
      "    \"\"\"\n",
      "    return np.square(np.dot(x, y.T) + 2*np.identity(len(x)))\n",
      "\n",
      "def rbf_kernel_svm(x, y):\n",
      "    \"\"\"\n",
      "    k(x, y) = exp(||x1 - x2||^2 / 2*sigma^2)\n",
      "    \"\"\"\n",
      "    return 'rbf'\n",
      "\n",
      "def square_kernel_svm(x, y):\n",
      "    \"\"\"\n",
      "    k(x, y) = (x . y.t)^2\n",
      "    \"\"\"\n",
      "    return np.square(np.dot(x, y.T))"
     ],
     "language": "python",
     "metadata": {},
     "outputs": [],
     "prompt_number": 17
    },
    {
     "cell_type": "code",
     "collapsed": false,
     "input": [
      "idx_svm_square = do_svc(square_kernel_svm, \n",
      "    \"SVM with Square Kernel\" +\\\n",
      "     square_kernel_svm.__doc__)\n",
      "\n",
      "idx_svm_polynom = do_svc(polynom_kernel_svm, \n",
      "    \"SVM with Polynomial Kernel\" +\\\n",
      "     polynom_kernel_svm.__doc__)\n",
      "\n",
      "idx_svm_rbf = do_svc('rbf', \n",
      "    \"SVM with Radial Basis Function kernel\" +\\\n",
      "     rbf_kernel_svm.__doc__)"
     ],
     "language": "python",
     "metadata": {},
     "outputs": [
      {
       "output_type": "stream",
       "stream": "stdout",
       "text": [
        "\n",
        "\n",
        "SVM with Square Kernel\n",
        "    k(x, y) = (x . y.t)^2\n",
        "    \n",
        "Num. of Sup. Vectors: C0=1, C1=3\n"
       ]
      },
      {
       "output_type": "display_data",
       "png": "[encoded data removed]"
      },
      {
       "output_type": "stream",
       "stream": "stdout",
       "text": [
        "  Accuracy: \t1.0\n",
        "  Precision: \t1.0\n",
        "  Recall: \t1.0\n",
        "  F-Score: \t1.0\n",
        "\n",
        "\n",
        "SVM with Polynomial Kernel\n",
        "    k(x, y) = (x. y.T + 2*I)^2\n",
        "\n",
        "    \n",
        "Num. of Sup. Vectors: C0=2, C1=5\n"
       ]
      },
      {
       "output_type": "display_data",
       "png": "[encoded data removed]"
      },
      {
       "output_type": "stream",
       "stream": "stdout",
       "text": [
        "  Accuracy: \t1.0\n",
        "  Precision: \t1.0\n",
        "  Recall: \t1.0\n",
        "  F-Score: \t1.0\n",
        "\n",
        "\n",
        "SVM with Radial Basis Function kernel\n",
        "    k(x, y) = exp(||x1 - x2||^2 / 2*sigma^2)\n",
        "    \n",
        "Num. of Sup. Vectors: C0=16, C1=61\n"
       ]
      },
      {
       "output_type": "display_data",
       "png": "[encoded data removed]"
      },
      {
       "output_type": "stream",
       "stream": "stdout",
       "text": [
        "  Accuracy: \t1.0\n",
        "  Precision: \t1.0\n",
        "  Recall: \t1.0\n",
        "  F-Score: \t1.0\n"
       ]
      }
     ],
     "prompt_number": 20
    },
    {
     "cell_type": "markdown",
     "metadata": {},
     "source": [
      "####Performance Comparison\n",
      "\n",
      "- SVC given almost perfect accuracy with square kernel, polynomial kernel and gaussian kernel! So this is much better than non-kernelized SVC.\n",
      "- The **number of support vectors** is also much lesser as compared to the non-kernelized SVC"
     ]
    },
    {
     "cell_type": "markdown",
     "metadata": {},
     "source": [
      "####(c) Do you observe the difference in performance when you use different kernels?  \n",
      "Yes, using appropriate kernels gives perfect / near-perfect classification for the datasets. There's a great difference in accuracy and precision."
     ]
    },
    {
     "cell_type": "markdown",
     "metadata": {},
     "source": [
      "####(d) What are the best performance results do you get by playing with different kernels and kernel parameters? Also, make sure to report the number of support vectors for the SVM (the good rule of thumb is to strive for no more than 35%-50% support vectors to avoid model overfitting.  \n",
      "The best performance results are in case of square kernel for SVM:  "
     ]
    },
    {
     "cell_type": "code",
     "collapsed": false,
     "input": [
      "get_performance([i[2] for i in bad_svm],\n",
      "    idx_svm_square)"
     ],
     "language": "python",
     "metadata": {},
     "outputs": [
      {
       "output_type": "stream",
       "stream": "stdout",
       "text": [
        "  Accuracy: \t1.0\n",
        "  Precision: \t1.0\n",
        "  Recall: \t1.0\n",
        "  F-Score: \t1.0\n"
       ]
      }
     ],
     "prompt_number": 21
    },
    {
     "cell_type": "markdown",
     "metadata": {},
     "source": [
      "##Exercise 5: Pipelining.\n",
      "Dimension reduction is often used as the key data preprocessing step to other data mining techniques downstream of end-to-end data analysis. In this exercise we will use **unsupervised kernel PCA** as a preprocessing step to **clustering**. Later in the course, we will use supervised dimension reduction methods as a preprocessor to the supervised classification methods.\n",
      "\n",
      "####(a) Generalize your BAD_kmeans data set to very high-dimensional space (d>>2)."
     ]
    },
    {
     "cell_type": "code",
     "collapsed": false,
     "input": [
      "def gen_gaus_shell(n, x, y):\n",
      "    \"\"\"\n",
      "    Generates n gaussian numbers with mean 0\n",
      "    and which lie in between x and y:\n",
      "    x <= abs(N) <= y\n",
      "    \"\"\"\n",
      "    c = 0\n",
      "    while c < n:\n",
      "        num = round(random.gauss(0, y),3)\n",
      "        if math.pow(x,2) <= math.pow(num, 2) <= math.pow(y,2):\n",
      "            yield num\n",
      "            c = c + 1\n",
      "\n",
      "def gen_bad_kmeans_HD(dim):\n",
      "    num_each = 50\n",
      "    nums1 = [list(gen_gaus_shell(dim, 0, 3))\\\n",
      "         for i in range(num_each)]\n",
      "    nums2 = [list(gen_gaus_shell(dim, 7, 10))\\\n",
      "         for i in range(num_each)]\n",
      "    nums = nums1 + nums2\n",
      "    label = [0]*num_each + [1]*num_each\n",
      "    assert len(label) == len(nums)\n",
      "    return nums, label\n",
      "\n",
      "def data_py2r_HD(data, dim):\n",
      "    data_all_tog = []\n",
      "    for i in range(0, dim):\n",
      "        data_all_tog = data_all_tog + [n[i] for n in data]\n",
      "    #return data_all_tog\n",
      "    return r.matrix(FloatVector(data_all_tog), ncol=dim)\n",
      "\n",
      "dims = 60\n",
      "bad_kmeans_hd, target_hd = gen_bad_kmeans_HD(dims)\n",
      "bad_kmeans_hd_r = data_py2r_HD(bad_kmeans_hd, dims)\n",
      "\n",
      "#print len(bad_kmeans_hd), len(bad_kmeans_hd[15])\n",
      "#print len(bad_kmeans_hd_r.rx(True,1)), len(bad_kmeans_hd_r.rx(1, True))\n",
      "#print bad_kmeans_hd[0]\n",
      "#print bad_kmeans_hd_r.rx(1, True)"
     ],
     "language": "python",
     "metadata": {},
     "outputs": [],
     "prompt_number": 202
    },
    {
     "cell_type": "markdown",
     "metadata": {},
     "source": [
      "Generated 80 points with 60 dimensions such that the 1st half belong to one cluster and the second half belong to another cluster.  "
     ]
    },
    {
     "cell_type": "markdown",
     "metadata": {},
     "source": [
      "####(b) Show that the kmeans clustering method does not perform well on that data."
     ]
    },
    {
     "cell_type": "code",
     "collapsed": false,
     "input": [
      "res, idx = kmeans2(np.array(bad_kmeans_hd), 2)\n",
      "get_performance(target_hd, idx)"
     ],
     "language": "python",
     "metadata": {},
     "outputs": [
      {
       "output_type": "stream",
       "stream": "stdout",
       "text": [
        "  Accuracy: \t0.524\n",
        "  Precision: \t0.512\n",
        "  Recall: \t0.814\n",
        "  F-Score: \t0.629\n"
       ]
      }
     ],
     "prompt_number": 260
    },
    {
     "cell_type": "markdown",
     "metadata": {},
     "source": [
      "The performacny metric shows that K-Means performs very poorly on the HD data."
     ]
    },
    {
     "cell_type": "markdown",
     "metadata": {},
     "source": [
      "####(c) Apply the kernel PCA method to this high dimensional data and identify the number (m < < d) of principal components (i.e., eigenvectors) that provide a reasonably good low-dimensional approximation to your data (i.e., based on eigenvalue distribution). How much total variability of the data will be preserved upon using this low-dimensional representation?"
     ]
    },
    {
     "cell_type": "code",
     "collapsed": false,
     "input": [
      "def plot_pca_ratios(ratio):\n",
      "    running_sums = [sum(ratio[0:i+1]) for i in range(len(ratio))]\n",
      "    fig, ax = plt.subplots()\n",
      "    \n",
      "    ax.scatter(range(len(running_sums)), running_sums)\n",
      "    \n",
      "    ax.set_xlabel('Eigen Vectors', fontsize=15)\n",
      "    ax.set_ylabel('Cumulative ratio of variance', fontsize=15)\n",
      "    \n",
      "    ax.grid(True)\n",
      "    fig.tight_layout()\n",
      "    print \"Plotting the cumulative ratio of variance\"\n",
      "    plt.show()\n",
      "    return"
     ],
     "language": "python",
     "metadata": {},
     "outputs": [],
     "prompt_number": 69
    },
    {
     "cell_type": "code",
     "collapsed": false,
     "input": [
      "\"\"\"\n",
      "Output of kpca:\n",
      "    pcv - a matrix containing the principal\n",
      "            component vectors (column wise)\n",
      "    eig - The corresponding eigenvalues\n",
      "    rotated - The original data projected\n",
      "            (rotated) on the principal components\n",
      "    xmatrix - The original data matrix\n",
      "\n",
      "\"\"\"\n",
      "def do_kpca_hd(n, kernel):\n",
      "    kpc = r.kpca(n, kernel=kernel)\n",
      "    pc_vec =np.array(kpc.do_slot(\"pcv\"))\n",
      "    \n",
      "    print \"\\n\" + str(kernel)\n",
      "    \n",
      "    # Percentage of variance for each components\n",
      "    eig_v = [i for i in kpc.do_slot(\"eig\")]\n",
      "\n",
      "    ratio = [i/sum(eig_v) for i in eig_v]\n",
      "    plot_pca_ratios(ratio)\n",
      "    return kpc, ratio\n",
      "\n",
      "\n",
      "kpc_hd, ratio_hd = do_kpca_hd(bad_kmeans_hd_r, 'rbfdot')"
     ],
     "language": "python",
     "metadata": {},
     "outputs": [
      {
       "output_type": "stream",
       "stream": "stdout",
       "text": [
        "\n",
        "rbfdot\n",
        "Plotting the cumulative ratio of variance"
       ]
      },
      {
       "output_type": "stream",
       "stream": "stdout",
       "text": [
        "\n"
       ]
      },
      {
       "output_type": "display_data",
       "png": "[encoded data removed]"
      }
     ],
     "prompt_number": 211
    },
    {
     "cell_type": "markdown",
     "metadata": {},
     "source": [
      "Of the total 99 components, if we take the 1st **20** components, the variability that will be preserved would be:"
     ]
    },
    {
     "cell_type": "code",
     "collapsed": false,
     "input": [
      "m = 20\n",
      "print sum(ratio_hd[0:m])"
     ],
     "language": "python",
     "metadata": {},
     "outputs": [
      {
       "output_type": "stream",
       "stream": "stdout",
       "text": [
        "0.202020202309\n"
       ]
      }
     ],
     "prompt_number": 212
    },
    {
     "cell_type": "markdown",
     "metadata": {},
     "source": [
      "####(d) Project your original data onto the top m eigenvectors corresponding the largest eigenvalues."
     ]
    },
    {
     "cell_type": "code",
     "collapsed": false,
     "input": [
      "print \"Projected original data onto top \"\\\n",
      "    + str(m) + \" PCA components.\"\n",
      "\n",
      "kpc_hd_rot = kpc.do_slot('rotated')\n",
      "len(kpc_hd_rot.rx(True,1)), len(kpc_hd_rot.rx(1, True))\n",
      "\n",
      "projected_hd = [[j for j in kpc_hd_rot.rx(i+1, True)][0:m] for i in range(100)]"
     ],
     "language": "python",
     "metadata": {},
     "outputs": [
      {
       "output_type": "stream",
       "stream": "stdout",
       "text": [
        "Projected original data onto top 20 PCA components.\n"
       ]
      }
     ],
     "prompt_number": 213
    },
    {
     "cell_type": "markdown",
     "metadata": {},
     "source": [
      "####(e) Run the kmeans clustering algorithm on the projected low dimensional data."
     ]
    },
    {
     "cell_type": "code",
     "collapsed": false,
     "input": [
      "res, idx = kmeans2(np.array(projected_hd), 2)\n",
      "get_performance(target_hd, idx)"
     ],
     "language": "python",
     "metadata": {},
     "outputs": [
      {
       "output_type": "stream",
       "stream": "stdout",
       "text": [
        "  Accuracy: \t0.593\n",
        "  Precision: \t0.567\n",
        "  Recall: \t0.749\n",
        "  F-Score: \t0.645\n"
       ]
      }
     ],
     "prompt_number": 223
    },
    {
     "cell_type": "markdown",
     "metadata": {},
     "source": [
      "####(f) Compare the performance of the kmeans on d-dimensional original data vs. the m-dimensional projected data. Has the performance improved?"
     ]
    },
    {
     "cell_type": "markdown",
     "metadata": {},
     "source": [
      "There is a very slight increase in the performance of KMeans on m-dimensional projected data as compared to the d-dimensional data."
     ]
    },
    {
     "cell_type": "markdown",
     "metadata": {},
     "source": [
      "####(g) If you run the kernel kmeans clustering method on the original data, will get better/worse performance? Can you discuss the pros and cons of using kernel kmeans on the original data directly versus applying the kernel pca as the pre-processing step and then running the kmeans on the low-dimensional data."
     ]
    },
    {
     "cell_type": "code",
     "collapsed": false,
     "input": [
      "print \"\\n\" + str(kernel_gaus)\n",
      "kk_out_hd = r.kkmeans(bad_kmeans_hd_r, 2, kernel = kernel_gaus)\n",
      "\n",
      "kkm_gaus_idx_hd = [i-1 for i in kk_out_hd]\n",
      "\n",
      "get_performance(target_hd, kkm_gaus_idx_hd)"
     ],
     "language": "python",
     "metadata": {},
     "outputs": [
      {
       "output_type": "stream",
       "stream": "stdout",
       "text": [
        "\n",
        "Gaussian Radial Basis kernel function. \n",
        " Hyperparameter : sigma =  0.15 \n",
        "\n",
        "  Accuracy: \t0.502\n",
        "  Precision: \t0.497\n",
        "  Recall: \t0.497\n",
        "  F-Score: \t0.497\n"
       ]
      }
     ],
     "prompt_number": 246
    },
    {
     "cell_type": "markdown",
     "metadata": {},
     "source": [
      "Kernel k-means uses the 'kernel trick' (i.e. implicitly projecting all data into a non-linear feature space with the use of a kernel) to transform the data and then applies the regular k-means algorithm to find out clusters. However, this might contain a lot of noise because of the lower valued eigen vectors. Also, it will be very computationally intensive to run the k-means over all the dimensions.  "
     ]
    },
    {
     "cell_type": "markdown",
     "metadata": {},
     "source": [
      "## References"
     ]
    },
    {
     "cell_type": "markdown",
     "metadata": {},
     "source": [
      "[1] COMP 130 Elements of Algorithms and Computation - https://www.clear.rice.edu/comp130/12spring/pca/pca_docs.shtml\n",
      "\n",
      "[2] Phillips, Jeff M., and Suresh Venkatasubramanian. \"A gentle introduction to the kernel distance.\" arXiv preprint arXiv:1103.1625 (2011)."
     ]
    }
   ],
   "metadata": {}
  }
 ]
}