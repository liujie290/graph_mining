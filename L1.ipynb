{
 "metadata": {
  "name": "Graph Data Mining - L1"
 },
 "nbformat": 3,
 "nbformat_minor": 0,
 "worksheets": [
  {
   "cells": [
    {
     "cell_type": "markdown",
     "metadata": {},
     "source": [
      "# Graph Data Mining - Lecture Assignment 1\n"
     ]
    },
    {
     "cell_type": "code",
     "collapsed": false,
     "input": [
      "from igraph import *\n",
      "import numpy as np\n",
      "import matplotlib.pyplot as plt\n",
      "import math"
     ],
     "language": "python",
     "metadata": {},
     "outputs": [],
     "prompt_number": 2
    },
    {
     "cell_type": "markdown",
     "metadata": {},
     "source": [
      "##Exercise 1 Generating the adjacency matrix A for graphs of particular type.\n",
      "Write a script (in R, Matlab, or SAS) that generates the adjacency matrix A for each of\n",
      "the following graphs and prints this matrix onto the screen:"
     ]
    },
    {
     "cell_type": "markdown",
     "metadata": {},
     "source": [
      "####(a) K5: 5-clique, or a fully connected simple, undirected graph of 5 nodes"
     ]
    },
    {
     "cell_type": "code",
     "collapsed": false,
     "input": [
      "gk5 = Graph.Full(5);\n",
      "gk5.get_adjacency()"
     ],
     "language": "python",
     "metadata": {},
     "outputs": [
      {
       "output_type": "pyout",
       "prompt_number": 4,
       "text": [
        "Matrix([[0, 1, 1, 1, 1], [1, 0, 1, 1, 1], [1, 1, 0, 1, 1], [1, 1, 1, 0, 1], [1, 1, 1, 1, 0]])"
       ]
      }
     ],
     "prompt_number": 4
    },
    {
     "cell_type": "markdown",
     "metadata": {},
     "source": [
      "####(b) K5.3: two disconnected components, C1 and C2, where C1 is a 5-clique K5 and C2 is a 3-clique K3"
     ]
    },
    {
     "cell_type": "code",
     "collapsed": false,
     "input": [
      "gc1 = Graph.Full(5)\n",
      "gc2 = Graph.Full(3)\n",
      "gk5_3 = gc1 + gc2\n",
      "gk5_3.get_adjacency()"
     ],
     "language": "python",
     "metadata": {},
     "outputs": [
      {
       "output_type": "pyout",
       "prompt_number": 5,
       "text": [
        "Matrix([[0, 1, 1, 1, 1, 0, 0, 0], [1, 0, 1, 1, 1, 0, 0, 0], [1, 1, 0, 1, 1, 0, 0, 0], [1, 1, 1, 0, 1, 0, 0, 0], [1, 1, 1, 1, 0, 0, 0, 0], [0, 0, 0, 0, 0, 0, 1, 1], [0, 0, 0, 0, 0, 1, 0, 1], [0, 0, 0, 0, 0, 1, 1, 0]])"
       ]
      }
     ],
     "prompt_number": 5
    },
    {
     "cell_type": "markdown",
     "metadata": {},
     "source": [
      "####(c) K5.3e: Almost the same as K53 but there is a single edge connecting the two components"
     ]
    },
    {
     "cell_type": "code",
     "collapsed": false,
     "input": [
      "gc3 = Graph.Full(5)\n",
      "gc4 = Graph.Full(3)\n",
      "gk5_3e = gc3 + gc4\n",
      "gk5_3e.add_edge(1,5);\n",
      "gk5_3e.get_adjacency()"
     ],
     "language": "python",
     "metadata": {},
     "outputs": [
      {
       "output_type": "pyout",
       "prompt_number": 6,
       "text": [
        "Matrix([[0, 1, 1, 1, 1, 0, 0, 0], [1, 0, 1, 1, 1, 1, 0, 0], [1, 1, 0, 1, 1, 0, 0, 0], [1, 1, 1, 0, 1, 0, 0, 0], [1, 1, 1, 1, 0, 0, 0, 0], [0, 1, 0, 0, 0, 0, 1, 1], [0, 0, 0, 0, 0, 1, 0, 1], [0, 0, 0, 0, 0, 1, 1, 0]])"
       ]
      }
     ],
     "prompt_number": 6
    },
    {
     "cell_type": "markdown",
     "metadata": {},
     "source": [
      "####(d) B2.3: Complete bi-partite graph with n1=2 nodes in the first part and n2=3 nodes in the second part"
     ]
    },
    {
     "cell_type": "code",
     "collapsed": false,
     "input": [
      "gb2_3 = Graph.Full_Bipartite(2, 3)\n",
      "gb2_3.get_adjacency()"
     ],
     "language": "python",
     "metadata": {},
     "outputs": [
      {
       "output_type": "pyout",
       "prompt_number": 7,
       "text": [
        "Matrix([[0, 0, 1, 1, 1], [0, 0, 1, 1, 1], [1, 1, 0, 0, 0], [1, 1, 0, 0, 0], [1, 1, 0, 0, 0]])"
       ]
      }
     ],
     "prompt_number": 7
    },
    {
     "cell_type": "markdown",
     "metadata": {},
     "source": [
      "####(e) S5: A 5-vertex star (one central \"hub\" node that connects to all the other \"spoke\" nodes)"
     ]
    },
    {
     "cell_type": "code",
     "collapsed": false,
     "input": [
      "gs5 = Graph.Star(5)\n",
      "gb2_3.get_adjacency()"
     ],
     "language": "python",
     "metadata": {},
     "outputs": [
      {
       "output_type": "pyout",
       "prompt_number": 8,
       "text": [
        "Matrix([[0, 0, 1, 1, 1], [0, 0, 1, 1, 1], [1, 1, 0, 0, 0], [1, 1, 0, 0, 0], [1, 1, 0, 0, 0]])"
       ]
      }
     ],
     "prompt_number": 8
    },
    {
     "cell_type": "markdown",
     "metadata": {},
     "source": [
      "####(f) P5: A simple path of 5 vertices"
     ]
    },
    {
     "cell_type": "code",
     "collapsed": false,
     "input": [
      "gp5 = Graph()\n",
      "gp5.add_vertices(5)\n",
      "gp5.add_edges([(0,1),(1,2),(2,3),(3,4)])\n",
      "gp5.get_adjacency()"
     ],
     "language": "python",
     "metadata": {},
     "outputs": [
      {
       "output_type": "pyout",
       "prompt_number": 9,
       "text": [
        "Matrix([[0, 1, 0, 0, 0], [1, 0, 1, 0, 0], [0, 1, 0, 1, 0], [0, 0, 1, 0, 1], [0, 0, 0, 1, 0]])"
       ]
      }
     ],
     "prompt_number": 9
    },
    {
     "cell_type": "markdown",
     "metadata": {},
     "source": [
      "##Exercise 2: Generating the degree matrix D for a given adjacency matrix A.\n",
      "Write a script that generates a degree matrix for each of the adjacency matrices in\n",
      "Exercise 1. Note that the degree matrix is a diagonal matrix where all the positions\n",
      "except for the diagonal are zero's. The diagonal elements correspond to the degrees\n",
      "of the corresponding nodes, namely Dii = degree(v_i)."
     ]
    },
    {
     "cell_type": "code",
     "collapsed": false,
     "input": [
      "def get_deg_matrix(graph):\n",
      "    v = graph.vcount()\n",
      "    a = np.zeros(shape=(v,v))\n",
      "    for i in xrange(0,v):\n",
      "        a[i][i]=graph.degree(i)\n",
      "    return a"
     ],
     "language": "python",
     "metadata": {},
     "outputs": [],
     "prompt_number": 10
    },
    {
     "cell_type": "markdown",
     "metadata": {},
     "source": [
      "####K5"
     ]
    },
    {
     "cell_type": "code",
     "collapsed": false,
     "input": [
      "get_deg_matrix(gk5)"
     ],
     "language": "python",
     "metadata": {},
     "outputs": [
      {
       "output_type": "pyout",
       "prompt_number": 11,
       "text": [
        "array([[ 4.,  0.,  0.,  0.,  0.],\n",
        "       [ 0.,  4.,  0.,  0.,  0.],\n",
        "       [ 0.,  0.,  4.,  0.,  0.],\n",
        "       [ 0.,  0.,  0.,  4.,  0.],\n",
        "       [ 0.,  0.,  0.,  0.,  4.]])"
       ]
      }
     ],
     "prompt_number": 11
    },
    {
     "cell_type": "markdown",
     "metadata": {},
     "source": [
      "####K5.3"
     ]
    },
    {
     "cell_type": "code",
     "collapsed": false,
     "input": [
      "get_deg_matrix(gk5_3)"
     ],
     "language": "python",
     "metadata": {},
     "outputs": [
      {
       "output_type": "pyout",
       "prompt_number": 12,
       "text": [
        "array([[ 4.,  0.,  0.,  0.,  0.,  0.,  0.,  0.],\n",
        "       [ 0.,  4.,  0.,  0.,  0.,  0.,  0.,  0.],\n",
        "       [ 0.,  0.,  4.,  0.,  0.,  0.,  0.,  0.],\n",
        "       [ 0.,  0.,  0.,  4.,  0.,  0.,  0.,  0.],\n",
        "       [ 0.,  0.,  0.,  0.,  4.,  0.,  0.,  0.],\n",
        "       [ 0.,  0.,  0.,  0.,  0.,  2.,  0.,  0.],\n",
        "       [ 0.,  0.,  0.,  0.,  0.,  0.,  2.,  0.],\n",
        "       [ 0.,  0.,  0.,  0.,  0.,  0.,  0.,  2.]])"
       ]
      }
     ],
     "prompt_number": 12
    },
    {
     "cell_type": "markdown",
     "metadata": {},
     "source": [
      "####K5.3e"
     ]
    },
    {
     "cell_type": "code",
     "collapsed": false,
     "input": [
      "get_deg_matrix(gk5_3e)"
     ],
     "language": "python",
     "metadata": {},
     "outputs": [
      {
       "output_type": "pyout",
       "prompt_number": 73,
       "text": [
        "array([[ 4.,  0.,  0.,  0.,  0.,  0.,  0.,  0.],\n",
        "       [ 0.,  5.,  0.,  0.,  0.,  0.,  0.,  0.],\n",
        "       [ 0.,  0.,  4.,  0.,  0.,  0.,  0.,  0.],\n",
        "       [ 0.,  0.,  0.,  4.,  0.,  0.,  0.,  0.],\n",
        "       [ 0.,  0.,  0.,  0.,  4.,  0.,  0.,  0.],\n",
        "       [ 0.,  0.,  0.,  0.,  0.,  3.,  0.,  0.],\n",
        "       [ 0.,  0.,  0.,  0.,  0.,  0.,  2.,  0.],\n",
        "       [ 0.,  0.,  0.,  0.,  0.,  0.,  0.,  2.]])"
       ]
      }
     ],
     "prompt_number": 73
    },
    {
     "cell_type": "markdown",
     "metadata": {},
     "source": [
      "####B2.3"
     ]
    },
    {
     "cell_type": "code",
     "collapsed": false,
     "input": [
      "get_deg_matrix(gb2_3)"
     ],
     "language": "python",
     "metadata": {},
     "outputs": [
      {
       "output_type": "pyout",
       "prompt_number": 74,
       "text": [
        "array([[ 3.,  0.,  0.,  0.,  0.],\n",
        "       [ 0.,  3.,  0.,  0.,  0.],\n",
        "       [ 0.,  0.,  2.,  0.,  0.],\n",
        "       [ 0.,  0.,  0.,  2.,  0.],\n",
        "       [ 0.,  0.,  0.,  0.,  2.]])"
       ]
      }
     ],
     "prompt_number": 74
    },
    {
     "cell_type": "markdown",
     "metadata": {},
     "source": [
      "####S5"
     ]
    },
    {
     "cell_type": "code",
     "collapsed": false,
     "input": [
      "get_deg_matrix(gs5)"
     ],
     "language": "python",
     "metadata": {},
     "outputs": [
      {
       "output_type": "pyout",
       "prompt_number": 75,
       "text": [
        "array([[ 4.,  0.,  0.,  0.,  0.],\n",
        "       [ 0.,  1.,  0.,  0.,  0.],\n",
        "       [ 0.,  0.,  1.,  0.,  0.],\n",
        "       [ 0.,  0.,  0.,  1.,  0.],\n",
        "       [ 0.,  0.,  0.,  0.,  1.]])"
       ]
      }
     ],
     "prompt_number": 75
    },
    {
     "cell_type": "markdown",
     "metadata": {},
     "source": [
      "####P5"
     ]
    },
    {
     "cell_type": "code",
     "collapsed": false,
     "input": [
      "get_deg_matrix(gp5)"
     ],
     "language": "python",
     "metadata": {},
     "outputs": [
      {
       "output_type": "pyout",
       "prompt_number": 76,
       "text": [
        "array([[ 1.,  0.,  0.,  0.,  0.],\n",
        "       [ 0.,  2.,  0.,  0.,  0.],\n",
        "       [ 0.,  0.,  2.,  0.,  0.],\n",
        "       [ 0.,  0.,  0.,  2.,  0.],\n",
        "       [ 0.,  0.,  0.,  0.,  1.]])"
       ]
      }
     ],
     "prompt_number": 76
    },
    {
     "cell_type": "markdown",
     "metadata": {},
     "source": [
      "##Exercise 3: Generating the graph Laplacian matrix L for a given adjacency matrix A and its degree matrix D. \n",
      "Write a script that generates the graph\n",
      "Laplacian matrix L = D - A for each of the adjacency matrices in Exercise 1. Answer\n",
      "the following questions:"
     ]
    },
    {
     "cell_type": "markdown",
     "metadata": {},
     "source": [
      "### Over all answers:\n",
      "####(a) Is L a sparse matrix?\n",
      "No, not for any of the cases\n",
      "####(b) In what positions does L have non-zero elements?\n",
      "L has non-zero elements at places where there is an edge in the graph and the diagonal elementss (which represents the degree of the vertex)\n",
      "####(c) What are the values of the non-diagonal and non-zero elements?\n",
      "-1\n",
      "####(d) What does L contain along its diagonal?\n",
      "The degree of the corresponding vertex  \n",
      "#### (Individual answers below:)"
     ]
    },
    {
     "cell_type": "markdown",
     "metadata": {},
     "source": [
      "####K5"
     ]
    },
    {
     "cell_type": "code",
     "collapsed": false,
     "input": [
      "gk5.laplacian()"
     ],
     "language": "python",
     "metadata": {},
     "outputs": [
      {
       "output_type": "pyout",
       "prompt_number": 13,
       "text": [
        "[[4, -1, -1, -1, -1],\n",
        " [-1, 4, -1, -1, -1],\n",
        " [-1, -1, 4, -1, -1],\n",
        " [-1, -1, -1, 4, -1],\n",
        " [-1, -1, -1, -1, 4]]"
       ]
      }
     ],
     "prompt_number": 13
    },
    {
     "cell_type": "markdown",
     "metadata": {},
     "source": [
      "####(a) Is L a sparse matrix?\n",
      "No\n",
      "####(b) In what positions does L have non-zero elements?\n",
      "All\n",
      "####(c) What are the values of the non-diagonal and non-zero elements?\n",
      "Non-diagonal values = -1  \n",
      "Non - Zero values = 4\n",
      "####(d) What does L contain along its diagonal?\n",
      "Diagonal = 4"
     ]
    },
    {
     "cell_type": "markdown",
     "metadata": {},
     "source": [
      "####K5.3"
     ]
    },
    {
     "cell_type": "code",
     "collapsed": false,
     "input": [
      "gk5_3.laplacian()"
     ],
     "language": "python",
     "metadata": {},
     "outputs": [
      {
       "output_type": "pyout",
       "prompt_number": 79,
       "text": [
        "[[4, -1, -1, -1, -1, 0, 0, 0],\n",
        " [-1, 4, -1, -1, -1, 0, 0, 0],\n",
        " [-1, -1, 4, -1, -1, 0, 0, 0],\n",
        " [-1, -1, -1, 4, -1, 0, 0, 0],\n",
        " [-1, -1, -1, -1, 4, 0, 0, 0],\n",
        " [0, 0, 0, 0, 0, 2, -1, -1],\n",
        " [0, 0, 0, 0, 0, -1, 2, -1],\n",
        " [0, 0, 0, 0, 0, -1, -1, 2]]"
       ]
      }
     ],
     "prompt_number": 79
    },
    {
     "cell_type": "markdown",
     "metadata": {},
     "source": [
      "####(a) Is L a sparse matrix?\n",
      "No\n",
      "####(b) In what positions does L have non-zero elements?\n",
      "Top Left 5x5 and Lower right 3x3\n",
      "####(c) What are the values of the non-diagonal and non-zero elements?\n",
      "Non-diagonal values = 0,-1,2  \n",
      "Non-zero values = -1, 4, 2\n",
      "####(d) What does L contain along its diagonal?\n",
      "Diagonal values = 4,2"
     ]
    },
    {
     "cell_type": "markdown",
     "metadata": {},
     "source": [
      "####K5.3e"
     ]
    },
    {
     "cell_type": "code",
     "collapsed": false,
     "input": [
      "gk5_3e.laplacian()"
     ],
     "language": "python",
     "metadata": {},
     "outputs": [
      {
       "output_type": "pyout",
       "prompt_number": 80,
       "text": [
        "[[4, -1, -1, -1, -1, 0, 0, 0],\n",
        " [-1, 5, -1, -1, -1, -1, 0, 0],\n",
        " [-1, -1, 4, -1, -1, 0, 0, 0],\n",
        " [-1, -1, -1, 4, -1, 0, 0, 0],\n",
        " [-1, -1, -1, -1, 4, 0, 0, 0],\n",
        " [0, -1, 0, 0, 0, 3, -1, -1],\n",
        " [0, 0, 0, 0, 0, -1, 2, -1],\n",
        " [0, 0, 0, 0, 0, -1, -1, 2]]"
       ]
      }
     ],
     "prompt_number": 80
    },
    {
     "cell_type": "markdown",
     "metadata": {},
     "source": [
      "####(a) Is L a sparse matrix?\n",
      "No\n",
      "####(b) In what positions does L have non-zero elements?\n",
      "Top left and lower right\n",
      "####(c) What are the values of the non-diagonal and non-zero elements?\n",
      "Non-diagonal values = 0,-1  \n",
      "Non - zero values = -1,2,3,4,5\n",
      "####(d) What does L contain along its diagonal?\n",
      "Diagonal values = 2,3,4,5"
     ]
    },
    {
     "cell_type": "markdown",
     "metadata": {},
     "source": [
      "####B2.3"
     ]
    },
    {
     "cell_type": "code",
     "collapsed": false,
     "input": [
      "gb2_3.laplacian()"
     ],
     "language": "python",
     "metadata": {},
     "outputs": [
      {
       "output_type": "pyout",
       "prompt_number": 81,
       "text": [
        "[[3, 0, -1, -1, -1],\n",
        " [0, 3, -1, -1, -1],\n",
        " [-1, -1, 2, 0, 0],\n",
        " [-1, -1, 0, 2, 0],\n",
        " [-1, -1, 0, 0, 2]]"
       ]
      }
     ],
     "prompt_number": 81
    },
    {
     "cell_type": "markdown",
     "metadata": {},
     "source": [
      "####(a) Is L a sparse matrix?\n",
      "No\n",
      "####(b) In what positions does L have non-zero elements?\n",
      "Almost all\n",
      "####(c) What are the values of the non-diagonal and non-zero elements?\n",
      "non-diagonal values = 0,-1  \n",
      "non-zero values = -1,2,3\n",
      "####(d) What does L contain along its diagonal?\n",
      "diagonal values = 3,2"
     ]
    },
    {
     "cell_type": "markdown",
     "metadata": {},
     "source": [
      "####S5"
     ]
    },
    {
     "cell_type": "code",
     "collapsed": false,
     "input": [
      "gs5.laplacian()"
     ],
     "language": "python",
     "metadata": {},
     "outputs": [
      {
       "output_type": "pyout",
       "prompt_number": 82,
       "text": [
        "[[4, -1, -1, -1, -1],\n",
        " [-1, 1, 0, 0, 0],\n",
        " [-1, 0, 1, 0, 0],\n",
        " [-1, 0, 0, 1, 0],\n",
        " [-1, 0, 0, 0, 1]]"
       ]
      }
     ],
     "prompt_number": 82
    },
    {
     "cell_type": "markdown",
     "metadata": {},
     "source": [
      "####(a) Is L a sparse matrix?\n",
      "No\n",
      "####(b) In what positions does L have non-zero elements?\n",
      "top most row, left most column and diagonal\n",
      "####(c) What are the values of the non-diagonal and non-zero elements?\n",
      "non-diagonal values = -1,4  \n",
      "non-zero values = -1, 1, 4\n",
      "####(d) What does L contain along its diagonal?\n",
      "4,1"
     ]
    },
    {
     "cell_type": "markdown",
     "metadata": {},
     "source": [
      "####P5"
     ]
    },
    {
     "cell_type": "code",
     "collapsed": false,
     "input": [
      "gp5.laplacian()"
     ],
     "language": "python",
     "metadata": {},
     "outputs": [
      {
       "output_type": "pyout",
       "prompt_number": 83,
       "text": [
        "[[1, -1, 0, 0, 0],\n",
        " [-1, 2, -1, 0, 0],\n",
        " [0, -1, 2, -1, 0],\n",
        " [0, 0, -1, 2, -1],\n",
        " [0, 0, 0, -1, 1]]"
       ]
      }
     ],
     "prompt_number": 83
    },
    {
     "cell_type": "markdown",
     "metadata": {},
     "source": [
      "####(a) Is L a sparse matrix?\n",
      "No\n",
      "####(b) In what positions does L have non-zero elements?\n",
      "The diagonal, and the diagonal values above and below it\n",
      "####(c) What are the values of the non-diagonal and non-zero elements?\n",
      "non-diagonal values = 0,-1  \n",
      "non-zero values = -1,1,2\n",
      "####(d) What does L contain along its diagonal?\n",
      "diagonal values = 1,2"
     ]
    },
    {
     "cell_type": "markdown",
     "metadata": {},
     "source": [
      "##Exercise 4: Generating the graph spectrum, or the multiset of the eigenvalues of the graph adjacency matrix A. \n",
      "Write a script that calculates the eigenvalues of\n",
      "the graph adjacency matrix for each of the matrices in Exercise 2. Plot the\n",
      "eigenvalues in the increasing order of their values. Answer the following questions:"
     ]
    },
    {
     "cell_type": "code",
     "collapsed": false,
     "input": [
      "def plot_eig(graph):\n",
      "    e = np.sort(np.linalg.eig(graph.get_adjacency().data)[0])\n",
      "    print [\"%0.3f\" % item for item in e]\n",
      "    plt.plot(e)\n",
      "    plt.ylabel('Eigen Values')\n",
      "    plt.show()"
     ],
     "language": "python",
     "metadata": {},
     "outputs": [],
     "prompt_number": 83
    },
    {
     "cell_type": "markdown",
     "metadata": {},
     "source": [
      "####K5"
     ]
    },
    {
     "cell_type": "code",
     "collapsed": false,
     "input": [
      "plot_eig(gk5)"
     ],
     "language": "python",
     "metadata": {},
     "outputs": [
      {
       "output_type": "stream",
       "stream": "stdout",
       "text": [
        "['-1.000', '-1.000', '-1.000', '-1.000', '4.000']\n"
       ]
      },
      {
       "output_type": "display_data",
       "png": "[encoded data removed]"
      }
     ],
     "prompt_number": 84
    },
    {
     "cell_type": "markdown",
     "metadata": {},
     "source": [
      "####K5.3"
     ]
    },
    {
     "cell_type": "code",
     "collapsed": false,
     "input": [
      "plot_eig(gk5_3)"
     ],
     "language": "python",
     "metadata": {},
     "outputs": [
      {
       "output_type": "stream",
       "stream": "stdout",
       "text": [
        "[-1. -1. -1. -1. -1. -1.  2.  4.]\n"
       ]
      },
      {
       "output_type": "display_data",
       "png": "[encoded data removed]"
      }
     ],
     "prompt_number": 37
    },
    {
     "cell_type": "markdown",
     "metadata": {},
     "source": [
      "####K5.3e"
     ]
    },
    {
     "cell_type": "code",
     "collapsed": false,
     "input": [
      "plot_eig(gk5_3e)"
     ],
     "language": "python",
     "metadata": {},
     "outputs": [
      {
       "output_type": "stream",
       "stream": "stdout",
       "text": [
        "[-1.77987114 -1.         -1.         -1.         -1.         -0.33658584\n",
        "  2.05492255  4.06153444]\n"
       ]
      },
      {
       "output_type": "display_data",
       "png": "[encoded data removed]"
      }
     ],
     "prompt_number": 38
    },
    {
     "cell_type": "markdown",
     "metadata": {},
     "source": [
      "####B2.3"
     ]
    },
    {
     "cell_type": "code",
     "collapsed": false,
     "input": [
      "plot_eig(gb2_3)"
     ],
     "language": "python",
     "metadata": {},
     "outputs": [
      {
       "output_type": "stream",
       "stream": "stdout",
       "text": [
        "['-2.449', '0.000', '0.000', '0.000', '2.449']\n"
       ]
      },
      {
       "output_type": "display_data",
       "png": "[encoded data removed]"
      }
     ],
     "prompt_number": 85
    },
    {
     "cell_type": "markdown",
     "metadata": {},
     "source": [
      "####S5"
     ]
    },
    {
     "cell_type": "code",
     "collapsed": false,
     "input": [
      "plot_eig(gs5)"
     ],
     "language": "python",
     "metadata": {},
     "outputs": [
      {
       "output_type": "stream",
       "stream": "stdout",
       "text": [
        "['-2.000', '0.000', '0.000', '0.000', '2.000']\n"
       ]
      },
      {
       "output_type": "display_data",
       "png": "[encoded data removed]"
      }
     ],
     "prompt_number": 87
    },
    {
     "cell_type": "markdown",
     "metadata": {},
     "source": [
      "####P5"
     ]
    },
    {
     "cell_type": "code",
     "collapsed": false,
     "input": [
      "plot_eig(gp5)"
     ],
     "language": "python",
     "metadata": {},
     "outputs": [
      {
       "output_type": "stream",
       "stream": "stdout",
       "text": [
        "['-1.732', '-1.000', '-0.000', '1.000', '1.732']\n"
       ]
      },
      {
       "output_type": "display_data",
       "png": "[encoded data removed]"
      }
     ],
     "prompt_number": 88
    },
    {
     "cell_type": "markdown",
     "metadata": {},
     "source": [
      "####(a) What can you say about the eigenvalues of the complete graph (K5): the number of unique eigenvalues, the largest and the smallest eigenvalues, the multiplicity (how many times the same egenvalue appears) of each eigenvalue?\n",
      "Number of unique eigenvalues = 2  \n",
      "Largest = 4  \n",
      "Smallest = -1  \n",
      "Multiplicity = -1: 4, 4: 1  "
     ]
    },
    {
     "cell_type": "markdown",
     "metadata": {},
     "source": [
      "####(b) What is the graph spectrum of the bi-partite graph, B2.3? If n1 = n and n2 = m (a general complete bi-partite graph), then what can you say about its graph spectrum? [Hint: check sqrt(n * m)] If \\lambda is the eigenvalue of the bi-partite graph, will minus \\lambda be also the eigenvalue?\n",
      "Spectrum =  {-|\\sqrt(6)|, 0 , + |\\sqrt(6)|}.   \n",
      "For a general complete bi-partite graph, graph spectrum = {-|sqrt(n*m)|, 0 , + |sqrt(n*m)|}  \n",
      "Yes. If \\lambda is the eigenvalue then minus \\lambda will also be its eigenvalue.\n"
     ]
    },
    {
     "cell_type": "markdown",
     "metadata": {},
     "source": [
      "####(c) What is the largest eigenvalue of the star graph S5? If S5 were generalized to an N-vertex star, what could you say about the value of its largest eigenvalue?\n",
      "Largest eigenvalue = 2  "
     ]
    },
    {
     "cell_type": "code",
     "collapsed": false,
     "input": [
      "print '%2s %3s %4s' % (\"n\",\"E\",\"E^2\")\n",
      "for i in xrange(2,10):\n",
      "    g = Graph.Star(i)\n",
      "    largest_eig = np.sort(np.linalg.eig(g.get_adjacency().data)[0])[-1]\n",
      "    print '%2d %0.2f %0.2f' % (i,largest_eig,math.pow(largest_eig,2))"
     ],
     "language": "python",
     "metadata": {},
     "outputs": [
      {
       "output_type": "stream",
       "stream": "stdout",
       "text": [
        " n   E  E^2\n",
        " 2 1.00 1.00\n",
        " 3 1.41 2.00\n",
        " 4 1.73 3.00\n",
        " 5 2.00 4.00\n",
        " 6 2.24 5.00\n",
        " 7 2.45 6.00\n",
        " 8 2.65 7.00\n",
        " 9 2.83 8.00\n"
       ]
      }
     ],
     "prompt_number": 57
    },
    {
     "cell_type": "markdown",
     "metadata": {},
     "source": [
      "So, if S5 were generalized to an N-vertex star, the lagest eigen value has the relation:  \n",
      "###Largest Eigen Value = sqrt(N-1)"
     ]
    },
    {
     "cell_type": "markdown",
     "metadata": {},
     "source": [
      "####(d) What is the largest eigenvalue of the star graph P5? As the length of the path increases, what can you say about the the changes in the largest eigenvalue?\n",
      "Largest Eigen Value of P5 = 1.73"
     ]
    },
    {
     "cell_type": "code",
     "collapsed": false,
     "input": [
      "print '%2s %4s %4s' % (\"n\",\"E\",\"E^2\")\n",
      "for i in xrange(2,10):\n",
      "    g = Graph()\n",
      "    g.add_vertices(i)\n",
      "    for j in xrange(0,i-1):\n",
      "        g.add_edge(j,j+1)\n",
      "    largest_eig = np.sort(np.linalg.eig(g.get_adjacency().data)[0])[-1]\n",
      "    print '%2d %0.3f %0.3f' % (i,largest_eig,math.pow(largest_eig,2))"
     ],
     "language": "python",
     "metadata": {},
     "outputs": [
      {
       "output_type": "stream",
       "stream": "stdout",
       "text": [
        " n    E  E^2\n",
        " 2 1.000 1.000\n",
        " 3 1.414 2.000\n",
        " 4 1.618 2.618\n",
        " 5 1.732 3.000\n",
        " 6 1.802 3.247\n",
        " 7 1.848 3.414\n",
        " 8 1.879 3.532\n",
        " 9 1.902 3.618\n"
       ]
      }
     ],
     "prompt_number": 66
    },
    {
     "cell_type": "markdown",
     "metadata": {},
     "source": [
      "Largest eigen value increases with the increment in n"
     ]
    },
    {
     "cell_type": "markdown",
     "metadata": {},
     "source": [
      "####(e) How does the largest eigenvalue of the path P5 (or its more generalization to an arbitrary length) compare with the largest eigenvalues of the star graph or the complete graph? If you are asked to sort the largest eigevalue of the path, the star, and the clique) in the increasing order, what kind of relationship would you assign (E.g., \\lambda{path} > or < than \\lambda{star})?"
     ]
    },
    {
     "cell_type": "code",
     "collapsed": false,
     "input": [
      "print \"%s\\n\"% (\"Largest Eigen values:\")\n",
      "print '%2s %6s %6s %6s' % (\"n\",\"Full\",\"Star\",\"Path\")\n",
      "for i in xrange(2,10):\n",
      "    g = Graph.Full(i)\n",
      "    e1 = np.sort(np.linalg.eig(g.get_adjacency().data)[0])[-1]\n",
      "    \n",
      "    g = Graph.Star(i)\n",
      "    e2 = np.sort(np.linalg.eig(g.get_adjacency().data)[0])[-1]\n",
      "    \n",
      "    g = Graph() \n",
      "    g.add_vertices(i)\n",
      "    for j in xrange(0,i-1):\n",
      "        g.add_edge(j,j+1)\n",
      "    e3 = np.sort(np.linalg.eig(g.get_adjacency().data)[0])[-1]\n",
      "       \n",
      "    print '%2d  %0.3f  %0.3f  %0.3f' % (i,e1,e2,e3)"
     ],
     "language": "python",
     "metadata": {},
     "outputs": [
      {
       "output_type": "stream",
       "stream": "stdout",
       "text": [
        "Largest Eigen values:\n",
        "\n",
        " n   Full   Star   Path\n",
        " 2  1.000  1.000  1.000\n",
        " 3  2.000  1.414  1.414\n",
        " 4  3.000  1.732  1.618\n",
        " 5  4.000  2.000  1.732\n",
        " 6  5.000  2.236  1.802\n",
        " 7  6.000  2.449  1.848\n",
        " 8  7.000  2.646  1.879\n",
        " 9  8.000  2.828  1.902\n"
       ]
      }
     ],
     "prompt_number": 72
    },
    {
     "cell_type": "markdown",
     "metadata": {},
     "source": [
      "So, \n",
      "#### \\lambda{full} > \\lambda{star} > \\lambda{path}"
     ]
    },
    {
     "cell_type": "markdown",
     "metadata": {},
     "source": [
      "##Exercise 5: Generating the graph spectrum, or the multiset of the eigenvalues of the graph Laplacian. \n",
      "Write a script that calculates the eigenvalues of the graph\n",
      "Laplacian for each of the graphs in Exercise 1. Plot the eigenvalues in the increasing\n",
      "order of their values. Answer the following questions:"
     ]
    },
    {
     "cell_type": "code",
     "collapsed": false,
     "input": [
      "def plot_eig_lap(graph):\n",
      "    e = np.sort(np.linalg.eig(graph.laplacian())[0])\n",
      "    print [\"%0.3f\" % m for m in e]\n",
      "    plt.plot(e)\n",
      "    plt.ylabel('Eigen Values')\n",
      "    plt.show()"
     ],
     "language": "python",
     "metadata": {},
     "outputs": [],
     "prompt_number": 78
    },
    {
     "cell_type": "code",
     "collapsed": false,
     "input": [
      "print \"K5:\"\n",
      "plot_eig_lap(gk5)\n",
      "\n",
      "print \"K5.3\"\n",
      "plot_eig_lap(gk5_3)\n",
      "\n",
      "print \"K5.3e\"\n",
      "plot_eig_lap(gk5_3e)\n",
      "\n",
      "print \"B2.3\"\n",
      "plot_eig_lap(gb2_3)\n",
      "\n",
      "print \"S5\"\n",
      "plot_eig_lap(gs5)\n",
      "\n",
      "print \"P5\"\n",
      "plot_eig_lap(gp5)"
     ],
     "language": "python",
     "metadata": {},
     "outputs": [
      {
       "output_type": "stream",
       "stream": "stdout",
       "text": [
        "K5:\n",
        "['0.000', '5.000', '5.000', '5.000', '5.000']\n"
       ]
      },
      {
       "output_type": "display_data",
       "png": "[encoded data removed]"
      },
      {
       "output_type": "stream",
       "stream": "stdout",
       "text": [
        "K5.3\n",
        "['-0.000', '0.000', '3.000', '3.000', '5.000', '5.000', '5.000', '5.000']\n"
       ]
      },
      {
       "output_type": "display_data",
       "png": "[encoded data removed]"
      },
      {
       "output_type": "stream",
       "stream": "stdout",
       "text": [
        "K5.3e\n",
        "['0.000', '0.374', '3.000', '3.485', '5.000', '5.000', '5.000', '6.141']\n"
       ]
      },
      {
       "output_type": "display_data",
       "png": "[encoded data removed]"
      },
      {
       "output_type": "stream",
       "stream": "stdout",
       "text": [
        "B2.3\n",
        "['0.000', '2.000', '2.000', '3.000', '5.000']\n"
       ]
      },
      {
       "output_type": "display_data",
       "png": "[encoded data removed]"
      },
      {
       "output_type": "stream",
       "stream": "stdout",
       "text": [
        "S5\n",
        "['0.000', '1.000', '1.000', '1.000', '5.000']\n"
       ]
      },
      {
       "output_type": "display_data",
       "png": "[encoded data removed]"
      },
      {
       "output_type": "stream",
       "stream": "stdout",
       "text": [
        "P5\n",
        "['0.000', '0.382', '1.382', '2.618', '3.618']\n"
       ]
      },
      {
       "output_type": "display_data",
       "png": "[encoded data removed]"
      }
     ],
     "prompt_number": 79
    },
    {
     "cell_type": "markdown",
     "metadata": {},
     "source": [
      "####(a) What can you say about the largest and the smallest eigenvalues?\n",
      "K5: largest = 0; smallest = 5;  \n",
      "K5.3: largest = 0; smallest = 5;  \n",
      "K5.3e: largest = 0; smallest = 6.141;  \n",
      "B2.3: largest = 0 smallest = 5;  \n",
      "S5: largest = 0; smallest = 5;  \n",
      "P5: largest = 0; smallest = 3.618;\n",
      "####(b) What is the multiplicity (how many times the same egenvalue appears) of the zero eigenvalue for each of the cases?\n",
      "K5: 1  \n",
      "K5.3: 2  \n",
      "K5.3e: 1  \n",
      "B2.3: 1  \n",
      "S5: 1  \n",
      "P5: 1\n",
      "####(c) If K53 graph would be generalized to include c>2 components, what can you say about the multiplicity of the zero eigenvalues?"
     ]
    },
    {
     "cell_type": "code",
     "collapsed": false,
     "input": [
      "g = Graph.Full(2)\n",
      "for i in xrange(2,10):\n",
      "    g = g + Graph.Full(2)\n",
      "    eigs = np.linalg.eig(g.laplacian())[0]\n",
      "    print [\"%0.2f\" % eig for eig in eigs]"
     ],
     "language": "python",
     "metadata": {},
     "outputs": [
      {
       "output_type": "stream",
       "stream": "stdout",
       "text": [
        "['2.00', '0.00', '2.00', '0.00']\n",
        "['2.00', '0.00', '2.00', '0.00', '2.00', '0.00']\n",
        "['2.00', '0.00', '2.00', '0.00', '2.00', '0.00', '2.00', '0.00']\n",
        "['2.00', '0.00', '2.00', '0.00', '2.00', '0.00', '2.00', '0.00', '2.00', '0.00']\n",
        "['2.00', '0.00', '2.00', '0.00', '2.00', '0.00', '2.00', '0.00', '2.00', '0.00', '2.00', '0.00']\n",
        "['2.00', '0.00', '2.00', '0.00', '2.00', '0.00', '2.00', '0.00', '2.00', '0.00', '2.00', '0.00', '2.00', '0.00']\n",
        "['2.00', '0.00', '2.00', '0.00', '2.00', '0.00', '2.00', '0.00', '2.00', '0.00', '2.00', '0.00', '2.00', '0.00', '2.00', '0.00']\n",
        "['2.00', '0.00', '2.00', '0.00', '2.00', '0.00', '2.00', '0.00', '2.00', '0.00', '2.00', '0.00', '2.00', '0.00', '2.00', '0.00', '2.00', '0.00']\n"
       ]
      }
     ],
     "prompt_number": 96
    },
    {
     "cell_type": "markdown",
     "metadata": {},
     "source": [
      "####As components are added, it can be seen that the multiplicity of the eigen value '0' is equal to the number of disjoint components"
     ]
    },
    {
     "cell_type": "markdown",
     "metadata": {},
     "source": [
      "####(d) If graph G is connected (i.e., the number of disconnected components is one), what can you say about the multiplicity of the zero eigenvalue?\n",
      "One\n",
      "####(e) For the bi-partite graph, what is the value of the second eigenvalue?\n",
      "2\n",
      "####(f) Is the vector consisting of only 1's the eigenvector of the Laplacian? If it is, then what is its corresponding eigenvalue?\n",
      "Yes, corresponding value = 0\n",
      "\n",
      "####(g) Suppose the graph Laplacian matrix has the zero eigenvalue of multiplicity k. Can you say anything about the structure of such a graph?\n",
      "K unconnected components\n"
     ]
    }
   ],
   "metadata": {}
  }
 ]
}
