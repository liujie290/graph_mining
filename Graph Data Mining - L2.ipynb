{
 "metadata": {
  "name": "Graph Data Mining - L2"
 },
 "nbformat": 3,
 "nbformat_minor": 0,
 "worksheets": [
  {
   "cells": [
    {
     "cell_type": "markdown",
     "metadata": {},
     "source": [
      "##Exercise 1: Generating the data set.\n",
      "\n",
      "Write a script (in R, Matlab, or SAS) that generates a total of 60 points whose (x,y)-coordinates are drawn from a mixture of three Gaussians in a 2-dimentional real space. Each mixture has a mean of 2, 4, and 6, respectively, a standard deviation of one, and about 20 points.\n",
      "\n",
      "(a) Plot all the points in a single 2-dimensional space by using different shapes for each mixture.\n",
      "\n",
      "(b) Plot a histogram of all the points."
     ]
    },
    {
     "cell_type": "code",
     "collapsed": false,
     "input": [
      "import random\n",
      "\n",
      "def gen_rand_gaus():\n",
      "    nums = []\n",
      "    for i in xrange(0,20):\n",
      "        nums.append([round(random.gauss(2,1),3),round(random.gauss(2,1),3)])\n",
      "    for i in xrange(0,20):\n",
      "        nums.append([round(random.gauss(4,1),3),round(random.gauss(4,1),3)])\n",
      "    for i in xrange(0,20):\n",
      "        nums.append([round(random.gauss(6,1),3),round(random.gauss(6,1),3)])\n",
      "    return nums\n",
      "\n",
      "gen_rand_gaus()"
     ],
     "language": "python",
     "metadata": {},
     "outputs": [
      {
       "output_type": "pyout",
       "prompt_number": 5,
       "text": [
        "[[2.469, 2.762],\n",
        " [1.81, 1.148],\n",
        " [0.861, 1.778],\n",
        " [1.393, 2.253],\n",
        " [1.204, 2.111],\n",
        " [0.51, 1.192],\n",
        " [1.481, 3.62],\n",
        " [1.396, 0.99],\n",
        " [0.087, 1.908],\n",
        " [2.752, 2.346],\n",
        " [1.934, 2.63],\n",
        " [2.134, 1.962],\n",
        " [1.208, 1.971],\n",
        " [1.626, 2.141],\n",
        " [2.251, 1.023],\n",
        " [2.055, 1.161],\n",
        " [1.014, 3.032],\n",
        " [1.931, 2.398],\n",
        " [2.335, 1.979],\n",
        " [1.207, 2.453],\n",
        " [4.081, 1.055],\n",
        " [6.128, 2.578],\n",
        " [3.152, 5.482],\n",
        " [4.0, 5.41],\n",
        " [3.894, 5.118],\n",
        " [4.297, 4.303],\n",
        " [4.258, 4.599],\n",
        " [4.995, 3.277],\n",
        " [4.033, 5.07],\n",
        " [3.845, 4.273],\n",
        " [4.562, 2.604],\n",
        " [2.719, 4.06],\n",
        " [3.467, 3.672],\n",
        " [5.641, 5.145],\n",
        " [3.017, 3.643],\n",
        " [3.884, 3.754],\n",
        " [4.863, 2.648],\n",
        " [4.059, 3.133],\n",
        " [3.421, 5.86],\n",
        " [2.218, 4.571],\n",
        " [5.766, 6.767],\n",
        " [5.523, 5.387],\n",
        " [5.426, 5.56],\n",
        " [6.216, 5.709],\n",
        " [6.736, 7.169],\n",
        " [7.516, 7.912],\n",
        " [6.642, 7.628],\n",
        " [6.541, 6.749],\n",
        " [7.152, 6.599],\n",
        " [8.486, 6.837],\n",
        " [7.186, 6.023],\n",
        " [5.422, 4.632],\n",
        " [5.429, 6.765],\n",
        " [6.546, 4.866],\n",
        " [6.592, 6.747],\n",
        " [6.941, 6.535],\n",
        " [6.243, 7.088],\n",
        " [5.326, 6.887],\n",
        " [4.702, 6.921],\n",
        " [6.343, 6.8]]"
       ]
      }
     ],
     "prompt_number": 5
    },
    {
     "cell_type": "markdown",
     "metadata": {},
     "source": [
      "##Exercise 2: Generating the similarity graphs. \n",
      "Write a script that generates the following similarity graphs for the data set in Exercise 1 (see Lecture Notes):\n",
      "\n",
      "(a) KNN: The K-nearest neighbor graph using the value of K=10. Plot the graph.\n",
      "\n",
      "(b) GK: The complete similarity graph using the Gaussian kernel with sigma=1 as similarity function."
     ]
    },
    {
     "cell_type": "markdown",
     "metadata": {},
     "source": [
      "##Exercise 3: Characterizing the graph spectra.\n",
      "Write a script that generates the graph Laplacian matrix L = D - A and the normalized graph Laplacian matrix L_hat = I - A_hat and calculates the graph spectra for each of the graphs in Exercise 2.\n",
      "\n",
      "(a) Plot each graph's eigenspectra as a separate figure with i as x-axis and \\lambda_i as y-axis (a total of four plots)?\n",
      "\n",
      "(b)  What do you observe about the multiplicity of the \"close to\" zero eigenvalues? Are your observations consistent with the Properties described in lecture notes?\n",
      "\n",
      "(c) Plot each graph's eigenvector plot for the eigenvector u corresponding to the second smallest eigenvalue, with i as x-axis and u_i vector component as y-axis.\n",
      "\n",
      "(d) If you were using this plot for 2-way graph partitioning into S and V-S, the points from which mixtures will end up in which partition?\n",
      "\n",
      "(e) Calculate the conductance (write the script) for each of the identified partitions, S and V-S for the KNN graph using both the normalized and unnormalized Laplacian.\n",
      "\n",
      "(f) Calculate the lower and upper bounds for the graph conductance using the inequalities provided in the lecture notes. How does this value compare with the conductance obtained for S or V-S in 3.e?"
     ]
    },
    {
     "cell_type": "markdown",
     "metadata": {},
     "source": [
      "##Exercise 4: Spectral graph clustering.\n",
      "Write a script that performs spectral graph clustering using the normalized graph Laplacian of each of the graph in Exercise 2. The pseudo-code of the clustering method is described in the lecture notes. For the k-means clustering method use the value of k=3.\n",
      "\n",
      "(a) Run the k-means clustering algorithm provided by R/Matlab/SAS on the data set in Exercise 1, using the Euclidean distance as the dissimilarity metric, and the value of k=3. Plot the points in 2-dimensional space but use different shape for each of the identified cluster.\n",
      "\n",
      "(b) Run the spectral graph clustering and plot the corresponding points in Ex.1 with the shapes based on the identified cluster (one plot for each graph). Are there mismatches between the results obtained from spectral graph clustering and the kmeans clustering in 4.a?"
     ]
    },
    {
     "cell_type": "markdown",
     "metadata": {},
     "source": [
      "##Exercise 5: Performance evaluation.\n",
      "Compute the performance metrics for the community/cluster detection methods assuming the ground-truth clustering corresponds to the Gaussian mixture the point has been generated from.\n",
      "\n",
      "(a) Write the script that calculates the following metric for each community: Separability, Density, Cohesiveness, and Clustering Coefficient (see lecture notes for definitions and the required paper reading, Defining and Evaluating Network Communities based on Ground-truth by J. Yang, J. Leskovec. IEEE International Conference On Data Mining (ICDM), 2012.\n",
      "\n",
      "(c) Compute these community metrics for each of the 3 communities identified by the spectral graph clustering method and the graphs in Ex. 2. Do you observe the differences in the metrics for different types of graphs (KNN vs. GK)?\n",
      "\n",
      "(d) Write the script that calculates the following metrics for the performance of the community detection algorithm against the ground-truth: Precision, Recall, and F1-measure.\n",
      "\n",
      "(e) Compare the performance of kmeans clustering method with the spectral graph clustering method in terms of the metrics in 5.d."
     ]
    }
   ],
   "metadata": {}
  }
 ]
}