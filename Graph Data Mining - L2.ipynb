{
 "metadata": {
  "name": "Graph Data Mining - L2"
 },
 "nbformat": 3,
 "nbformat_minor": 0,
 "worksheets": [
  {
   "cells": [
    {
     "cell_type": "markdown",
     "metadata": {},
     "source": [
      "##Exercise 1: Generating the data set.\n",
      "\n",
      "Write a script (in R, Matlab, or SAS) that generates a total of 60 points whose (x,y)-coordinates are drawn from a mixture of three Gaussians in a 2-dimentional real space. Each mixture has a mean of 2, 4, and 6, respectively, a standard deviation of one, and about 20 points.\n",
      "\n",
      "(a) Plot all the points in a single 2-dimensional space by using different shapes for each mixture.\n",
      "\n",
      "(b) Plot a histogram of all the points."
     ]
    },
    {
     "cell_type": "code",
     "collapsed": false,
     "input": [
      "import random\n",
      "\n",
      "def gen_rand_gaus():\n",
      "    nums = []\n",
      "    for i in xrange(0,20):\n",
      "        nums.append(round(random.gauss(2,1),3))\n",
      "    for i in xrange(0,20):\n",
      "        nums.append(round(random.gauss(4,1),3))\n",
      "    for i in xrange(0,20):\n",
      "        nums.append(round(random.gauss(6,1),3))\n",
      "    return nums\n",
      "\n",
      "gen_rand_gaus()"
     ],
     "language": "python",
     "metadata": {},
     "outputs": [
      {
       "output_type": "pyout",
       "prompt_number": 4,
       "text": [
        "[0.808,\n",
        " 1.568,\n",
        " 1.57,\n",
        " 1.46,\n",
        " 1.755,\n",
        " 1.638,\n",
        " 1.951,\n",
        " 0.97,\n",
        " 1.162,\n",
        " 2.76,\n",
        " 0.797,\n",
        " 2.162,\n",
        " 2.402,\n",
        " 1.48,\n",
        " 4.698,\n",
        " 1.578,\n",
        " 3.613,\n",
        " 2.091,\n",
        " 2.514,\n",
        " 2.654,\n",
        " 1.836,\n",
        " 4.796,\n",
        " 4.335,\n",
        " 2.092,\n",
        " 3.848,\n",
        " 1.837,\n",
        " 5.731,\n",
        " 3.097,\n",
        " 5.104,\n",
        " 4.719,\n",
        " 4.883,\n",
        " 3.587,\n",
        " 4.812,\n",
        " 4.151,\n",
        " 5.302,\n",
        " 3.937,\n",
        " 4.073,\n",
        " 4.436,\n",
        " 4.9,\n",
        " 2.314,\n",
        " 6.918,\n",
        " 6.256,\n",
        " 5.64,\n",
        " 7.729,\n",
        " 5.514,\n",
        " 5.351,\n",
        " 5.558,\n",
        " 8.535,\n",
        " 8.323,\n",
        " 3.988,\n",
        " 7.132,\n",
        " 5.668,\n",
        " 6.503,\n",
        " 5.395,\n",
        " 4.836,\n",
        " 5.327,\n",
        " 6.558,\n",
        " 6.311,\n",
        " 6.313,\n",
        " 5.95]"
       ]
      }
     ],
     "prompt_number": 4
    },
    {
     "cell_type": "markdown",
     "metadata": {},
     "source": [
      "##Exercise 2: Generating the similarity graphs. \n",
      "Write a script that generates the following similarity graphs for the data set in Exercise 1 (see Lecture Notes):\n",
      "\n",
      "(a) KNN: The K-nearest neighbor graph using the value of K=10. Plot the graph.\n",
      "\n",
      "(b) GK: The complete similarity graph using the Gaussian kernel with sigma=1 as similarity function."
     ]
    },
    {
     "cell_type": "markdown",
     "metadata": {},
     "source": [
      "##Exercise 3: Characterizing the graph spectra.\n",
      "Write a script that generates the graph Laplacian matrix L = D - A and the normalized graph Laplacian matrix L_hat = I - A_hat and calculates the graph spectra for each of the graphs in Exercise 2.\n",
      "\n",
      "(a) Plot each graph's eigenspectra as a separate figure with i as x-axis and \\lambda_i as y-axis (a total of four plots)?\n",
      "\n",
      "(b)  What do you observe about the multiplicity of the \"close to\" zero eigenvalues? Are your observations consistent with the Properties described in lecture notes?\n",
      "\n",
      "(c) Plot each graph's eigenvector plot for the eigenvector u corresponding to the second smallest eigenvalue, with i as x-axis and u_i vector component as y-axis.\n",
      "\n",
      "(d) If you were using this plot for 2-way graph partitioning into S and V-S, the points from which mixtures will end up in which partition?\n",
      "\n",
      "(e) Calculate the conductance (write the script) for each of the identified partitions, S and V-S for the KNN graph using both the normalized and unnormalized Laplacian.\n",
      "\n",
      "(f) Calculate the lower and upper bounds for the graph conductance using the inequalities provided in the lecture notes. How does this value compare with the conductance obtained for S or V-S in 3.e?"
     ]
    },
    {
     "cell_type": "markdown",
     "metadata": {},
     "source": [
      "##Exercise 4: Spectral graph clustering.\n",
      "Write a script that performs spectral graph clustering using the normalized graph Laplacian of each of the graph in Exercise 2. The pseudo-code of the clustering method is described in the lecture notes. For the k-means clustering method use the value of k=3.\n",
      "\n",
      "(a) Run the k-means clustering algorithm provided by R/Matlab/SAS on the data set in Exercise 1, using the Euclidean distance as the dissimilarity metric, and the value of k=3. Plot the points in 2-dimensional space but use different shape for each of the identified cluster.\n",
      "\n",
      "(b) Run the spectral graph clustering and plot the corresponding points in Ex.1 with the shapes based on the identified cluster (one plot for each graph). Are there mismatches between the results obtained from spectral graph clustering and the kmeans clustering in 4.a?"
     ]
    },
    {
     "cell_type": "markdown",
     "metadata": {},
     "source": [
      "##Exercise 5: Performance evaluation.\n",
      "Compute the performance metrics for the community/cluster detection methods assuming the ground-truth clustering corresponds to the Gaussian mixture the point has been generated from.\n",
      "\n",
      "(a) Write the script that calculates the following metric for each community: Separability, Density, Cohesiveness, and Clustering Coefficient (see lecture notes for definitions and the required paper reading, Defining and Evaluating Network Communities based on Ground-truth by J. Yang, J. Leskovec. IEEE International Conference On Data Mining (ICDM), 2012.\n",
      "\n",
      "(c) Compute these community metrics for each of the 3 communities identified by the spectral graph clustering method and the graphs in Ex. 2. Do you observe the differences in the metrics for different types of graphs (KNN vs. GK)?\n",
      "\n",
      "(d) Write the script that calculates the following metrics for the performance of the community detection algorithm against the ground-truth: Precision, Recall, and F1-measure.\n",
      "\n",
      "(e) Compare the performance of kmeans clustering method with the spectral graph clustering method in terms of the metrics in 5.d."
     ]
    }
   ],
   "metadata": {}
  }
 ]
}